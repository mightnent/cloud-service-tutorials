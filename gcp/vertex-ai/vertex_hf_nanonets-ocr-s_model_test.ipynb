{
  "cells": [
    {
      "cell_type": "code",
      "execution_count": null,
      "metadata": {
        "colab": {
          "base_uri": "https://localhost:8080/"
        },
        "collapsed": true,
        "id": "NL0GJ0Qdzzas",
        "outputId": "0bb407e3-0ea3-488e-c223-c48bd3feba15"
      },
      "outputs": [],
      "source": [
        "!pip install google-cloud-aiplatform"
      ]
    },
    {
      "cell_type": "code",
      "execution_count": 33,
      "metadata": {
        "id": "duoKLiMn4gC1"
      },
      "outputs": [],
      "source": [
        "from google.oauth2 import service_account\n",
        "from google.cloud import aiplatform\n",
        "import os"
      ]
    },
    {
      "cell_type": "code",
      "execution_count": null,
      "metadata": {
        "id": "DUrHiFu16i6k"
      },
      "outputs": [],
      "source": [
        "os.environ[\"GOOGLE_APPLICATION_CREDENTIALS\"] = \"your-service-acct-cred.json\""
      ]
    },
    {
      "cell_type": "code",
      "execution_count": 98,
      "metadata": {
        "id": "Jy_WAUxp0Dl_"
      },
      "outputs": [],
      "source": [
        "from typing import Dict, List, Union\n",
        "\n",
        "from google.cloud import aiplatform\n",
        "from google.protobuf import json_format\n",
        "from google.protobuf.struct_pb2 import Value\n",
        "\n",
        "\n",
        "def predict_custom_trained_model_sample(\n",
        "    project: str,\n",
        "    endpoint_id: str,\n",
        "    instances: Union[Dict, List[Dict]],\n",
        "    location: str = \"asia-southeast1\",\n",
        "    api_endpoint: str = \"asia-southeast1-aiplatform.googleapis.com\",\n",
        "):\n",
        "    \"\"\"\n",
        "    `instances` can be either single instance of type dict or a list\n",
        "    of instances.\n",
        "    \"\"\"\n",
        "    # The AI Platform services require regional API endpoints.\n",
        "    client_options = {\"api_endpoint\": api_endpoint}\n",
        "    # Initialize client that will be used to create and send requests.\n",
        "    # This client only needs to be created once, and can be reused for multiple requests.\n",
        "    client = aiplatform.gapic.PredictionServiceClient(client_options=client_options)\n",
        "    # The format of each instance should conform to the deployed model's prediction input schema.\n",
        "    instances = instances if isinstance(instances, list) else [instances]\n",
        "    instances = [\n",
        "        json_format.ParseDict(instance_dict, Value()) for instance_dict in instances\n",
        "    ]\n",
        "    parameters_dict = {}\n",
        "    parameters = json_format.ParseDict(parameters_dict, Value())\n",
        "    endpoint = client.endpoint_path(\n",
        "        project=project, location=location, endpoint=endpoint_id\n",
        "    )\n",
        "    response = client.predict(\n",
        "        endpoint=endpoint, instances=instances, parameters=parameters\n",
        "    )\n",
        "    return response"
      ]
    },
    {
      "cell_type": "code",
      "execution_count": 99,
      "metadata": {
        "id": "nqZfNRlr0Roy"
      },
      "outputs": [],
      "source": [
        "instances = [\n",
        "    {\n",
        "        \"@requestFormat\": \"chatCompletions\",\n",
        "        \"messages\": [\n",
        "            {\n",
        "                \"role\": \"user\",\n",
        "                \"content\": [\n",
        "                        {\n",
        "                            \"type\": \"image_url\",\n",
        "                            \"image_url\": {\n",
        "                                \"url\": \"https://static.ticketmaster.sg/images/activity/25sg_jackycheung_2d95b62dbb846d6870cce7bce52cb42a.jpg\"\n",
        "                            }\n",
        "                        },\n",
        "                        {\n",
        "                            \"type\": \"text\",\n",
        "                            \"text\": \"Extract the text from the above document as if you were reading it naturally. Return the tables in html format. Return the equations in LaTeX representation. If there is an image in the document and image caption is not present, add a small description of the image inside the <img></img> tag; otherwise, add the image caption inside <img></img>. Watermarks should be wrapped in brackets. Ex: <watermark>OFFICIAL COPY</watermark>. Page numbers should be wrapped in brackets. Ex: <page_number>14</page_number> or <page_number>9/22</page_number>. Prefer using ☐ and ☑ for check boxes.\"\n",
        "                        }\n",
        "                    ]\n",
        "            }\n",
        "        ],\n",
        "        \"max_tokens\": 1024,\n",
        "        \"temperature\": 0.6,\n",
        "        \"top_p\": 1.0,\n",
        "        \"top_k\": -1\n",
        "    }\n",
        "]"
      ]
    },
    {
      "cell_type": "code",
      "execution_count": null,
      "metadata": {
        "id": "_M0vV6ir0PbH"
      },
      "outputs": [],
      "source": [
        "response = predict_custom_trained_model_sample(\n",
        "    project=\"your-proj-id\",\n",
        "    endpoint_id=\"your-endpoint-id\",\n",
        "    instances=instances\n",
        ")"
      ]
    },
    {
      "cell_type": "code",
      "execution_count": 101,
      "metadata": {
        "colab": {
          "base_uri": "https://localhost:8080/",
          "height": 185
        },
        "id": "x1lBpQ8dE-cC",
        "outputId": "2002078e-58e0-4edc-d187-000bb68ef222"
      },
      "outputs": [
        {
          "data": {
            "text/html": [
              "<div style=\"max-width:800px; border: 1px solid var(--colab-border-color);\"><style>\n",
              "      pre.function-repr-contents {\n",
              "        overflow-x: auto;\n",
              "        padding: 8px 12px;\n",
              "        max-height: 500px;\n",
              "      }\n",
              "\n",
              "      pre.function-repr-contents.function-repr-contents-collapsed {\n",
              "        cursor: pointer;\n",
              "        max-height: 100px;\n",
              "      }\n",
              "    </style>\n",
              "    <pre style=\"white-space: initial; background:\n",
              "         var(--colab-secondary-surface-color); padding: 8px 12px;\n",
              "         border-bottom: 1px solid var(--colab-border-color);\"><b>google.cloud.aiplatform_v1.types.prediction_service.PredictResponse</b><br/>def __init__(mapping=None, *, ignore_unknown_fields=False, **kwargs)</pre><pre class=\"function-repr-contents function-repr-contents-collapsed\" style=\"\"><a class=\"filepath\" style=\"display:none\" href=\"#\">/usr/local/lib/python3.11/dist-packages/google/cloud/aiplatform_v1/types/prediction_service.py</a>Response message for\n",
              "[PredictionService.Predict][google.cloud.aiplatform.v1.PredictionService.Predict].\n",
              "\n",
              "Attributes:\n",
              "    predictions (MutableSequence[google.protobuf.struct_pb2.Value]):\n",
              "        The predictions that are the output of the predictions call.\n",
              "        The schema of any single prediction may be specified via\n",
              "        Endpoint&#x27;s DeployedModels&#x27; [Model&#x27;s\n",
              "        ][google.cloud.aiplatform.v1.DeployedModel.model]\n",
              "        [PredictSchemata&#x27;s][google.cloud.aiplatform.v1.Model.predict_schemata]\n",
              "        [prediction_schema_uri][google.cloud.aiplatform.v1.PredictSchemata.prediction_schema_uri].\n",
              "    deployed_model_id (str):\n",
              "        ID of the Endpoint&#x27;s DeployedModel that\n",
              "        served this prediction.\n",
              "    model (str):\n",
              "        Output only. The resource name of the Model\n",
              "        which is deployed as the DeployedModel that this\n",
              "        prediction hits.\n",
              "    model_version_id (str):\n",
              "        Output only. The version ID of the Model\n",
              "        which is deployed as the DeployedModel that this\n",
              "        prediction hits.\n",
              "    model_display_name (str):\n",
              "        Output only. The [display\n",
              "        name][google.cloud.aiplatform.v1.Model.display_name] of the\n",
              "        Model which is deployed as the DeployedModel that this\n",
              "        prediction hits.\n",
              "    metadata (google.protobuf.struct_pb2.Value):\n",
              "        Output only. Request-level metadata returned\n",
              "        by the model. The metadata type will be\n",
              "        dependent upon the model implementation.</pre>\n",
              "      <script>\n",
              "      if (google.colab.kernel.accessAllowed && google.colab.files && google.colab.files.view) {\n",
              "        for (const element of document.querySelectorAll('.filepath')) {\n",
              "          element.style.display = 'block'\n",
              "          element.onclick = (event) => {\n",
              "            event.preventDefault();\n",
              "            event.stopPropagation();\n",
              "            google.colab.files.view(element.textContent, 105);\n",
              "          };\n",
              "        }\n",
              "      }\n",
              "      for (const element of document.querySelectorAll('.function-repr-contents')) {\n",
              "        element.onclick = (event) => {\n",
              "          event.preventDefault();\n",
              "          event.stopPropagation();\n",
              "          element.classList.toggle('function-repr-contents-collapsed');\n",
              "        };\n",
              "      }\n",
              "      </script>\n",
              "      </div>"
            ],
            "text/plain": [
              "google.cloud.aiplatform_v1.types.prediction_service.PredictResponse"
            ]
          },
          "execution_count": 101,
          "metadata": {},
          "output_type": "execute_result"
        }
      ],
      "source": [
        "type(response)"
      ]
    },
    {
      "cell_type": "code",
      "execution_count": 102,
      "metadata": {
        "id": "-hnnzFNfHNo7"
      },
      "outputs": [],
      "source": [
        "from google.protobuf.json_format import MessageToDict\n",
        "response_dict = MessageToDict(response._pb) # only this works..."
      ]
    },
    {
      "cell_type": "code",
      "execution_count": 104,
      "metadata": {
        "id": "1wdNcHvwIszk"
      },
      "outputs": [],
      "source": [
        "content = response_dict[\"predictions\"][0][0][\"message\"][\"content\"]"
      ]
    },
    {
      "cell_type": "code",
      "execution_count": 105,
      "metadata": {
        "colab": {
          "base_uri": "https://localhost:8080/",
          "height": 104
        },
        "id": "VT1GZkoEJTcO",
        "outputId": "e1b60d77-d23c-49b9-c1f7-2b29b12ffb19"
      },
      "outputs": [
        {
          "data": {
            "application/vnd.google.colaboratory.intrinsic+json": {
              "type": "string"
            },
            "text/plain": [
              "'KRISFLYER 呈現\\nSINGAPORE AIRLINES GROUP\\n\\nJACKY 張學友 60+\\nJC CHEUNG CONCERT TOUR\\n\\n巡迴演唱會 新加坡 SINGAPORE\\n\\n2025.11.21/22/23 | 8PM | SINGAPORE INDOOR STADIUM 新加坡室内体育馆\\n\\n主办单位 ORGANIZER\\nHorizon International Pte Ltd\\n\\n银行卡伙伴 CARD PARTNER OCBC\\n\\n主要赞助 MAIN SPONSOR Geneco\\nPowered by YTL Property\\n\\n媒体伙伴 MEDIA PARTNERS\\n联合早报\\nLINGIANG ZHANGBO\\n\\n<watermark>JDS JDS ENTERTAINMENT 全球演藝集團</watermark>\\n\\n<img>A man in a white suit with a bow tie, surrounded by underwater-like effects.</img>\\n<img>一个男人穿着白色西装，打着领结，周围有水下效果。</img>\\n<img>A man in a white suit with a bow tie, surrounded by underwater-like effects.</img>\\n<img>一个男人穿着白色西装，打着领结，周围有水下效果。</img>'"
            ]
          },
          "execution_count": 105,
          "metadata": {},
          "output_type": "execute_result"
        }
      ],
      "source": [
        "content"
      ]
    },
    {
      "cell_type": "code",
      "execution_count": null,
      "metadata": {
        "id": "IOdo8S3uJUe6"
      },
      "outputs": [],
      "source": []
    }
  ],
  "metadata": {
    "colab": {
      "provenance": []
    },
    "kernelspec": {
      "display_name": "Python 3",
      "name": "python3"
    },
    "language_info": {
      "name": "python"
    }
  },
  "nbformat": 4,
  "nbformat_minor": 0
}
